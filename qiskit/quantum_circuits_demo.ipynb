{
 "cells": [
  {
   "cell_type": "markdown",
   "metadata": {},
   "source": [
    "# Quantum Circuit Visualization with Qiskit\n",
    "\n",
    "This notebook demonstrates basic quantum circuits with visual representations using Qiskit."
   ]
  },
  {
   "cell_type": "code",
   "execution_count": null,
   "metadata": {},
   "outputs": [],
   "source": [
    "# Import necessary libraries\n",
    "from qiskit import QuantumCircuit, QuantumRegister, ClassicalRegister\n",
    "from qiskit.visualization import plot_histogram, plot_bloch_vector\n",
    "from qiskit_aer import AerSimulator\n",
    "import matplotlib.pyplot as plt\n",
    "import numpy as np"
   ]
  },
  {
   "cell_type": "markdown",
   "metadata": {},
   "source": [
    "## 1. Simple Single Qubit Circuit\n",
    "\n",
    "Let's start with a basic single qubit circuit using a Hadamard gate."
   ]
  },
  {
   "cell_type": "code",
   "execution_count": null,
   "metadata": {},
   "outputs": [],
   "source": [
    "# Create a quantum circuit with 1 qubit\n",
    "qc = QuantumCircuit(1, 1)\n",
    "\n",
    "# Apply Hadamard gate\n",
    "qc.h(0)\n",
    "\n",
    "# Measure the qubit\n",
    "qc.measure(0, 0)\n",
    "\n",
    "# Display the circuit\n",
    "print(\"Single Qubit with Hadamard Gate:\")\n",
    "print(qc.draw())\n",
    "\n",
    "# Display the circuit diagram\n",
    "qc.draw(output='mpl')"
   ]
  },
  {
   "cell_type": "code",
   "execution_count": null,
   "metadata": {},
   "outputs": [],
   "source": [
    "# Run the circuit\n",
    "simulator = AerSimulator()\n",
    "job = simulator.run(qc, shots=1000)\n",
    "result = job.result()\n",
    "counts = result.get_counts(qc)\n",
    "\n",
    "print(\"Measurement results:\", counts)\n",
    "plot_histogram(counts, title=\"Single Qubit Hadamard Results\")"
   ]
  },
  {
   "cell_type": "markdown",
   "metadata": {},
   "source": [
    "## 2. Bell State (Quantum Entanglement)\n",
    "\n",
    "Now let's create a Bell state to demonstrate quantum entanglement."
   ]
  },
  {
   "cell_type": "code",
   "execution_count": null,
   "metadata": {},
   "outputs": [],
   "source": [
    "# Create Bell state circuit\n",
    "bell_qc = QuantumCircuit(2, 2)\n",
    "\n",
    "# Apply Hadamard to first qubit\n",
    "bell_qc.h(0)\n",
    "\n",
    "# Apply CNOT gate\n",
    "bell_qc.cx(0, 1)\n",
    "\n",
    "# Measure both qubits\n",
    "bell_qc.measure([0, 1], [0, 1])\n",
    "\n",
    "print(\"Bell State Circuit:\")\n",
    "print(bell_qc.draw())\n",
    "\n",
    "# Display the circuit diagram\n",
    "bell_qc.draw(output='mpl')"
   ]
  },
  {
   "cell_type": "code",
   "execution_count": null,
   "metadata": {},
   "outputs": [],
   "source": [
    "# Run the Bell state circuit\n",
    "job = simulator.run(bell_qc, shots=1000)\n",
    "result = job.result()\n",
    "counts = result.get_counts(bell_qc)\n",
    "\n",
    "print(\"Bell State results:\", counts)\n",
    "plot_histogram(counts, title=\"Bell State Results (Entangled Qubits)\")"
   ]
  },
  {
   "cell_type": "markdown",
   "metadata": {},
   "source": [
    "## 3. Multi-Gate Circuit\n",
    "\n",
    "Let's create a more complex circuit with multiple types of gates."
   ]
  },
  {
   "cell_type": "code",
   "execution_count": null,
   "metadata": {},
   "outputs": [],
   "source": [
    "# Create a 3-qubit circuit\n",
    "multi_qc = QuantumCircuit(3, 3)\n",
    "\n",
    "# Apply various gates\n",
    "multi_qc.h(0)           # Hadamard on qubit 0\n",
    "multi_qc.x(1)           # Pauli-X on qubit 1\n",
    "multi_qc.y(2)           # Pauli-Y on qubit 2\n",
    "multi_qc.barrier()      # Add barrier for clarity\n",
    "\n",
    "multi_qc.cx(0, 1)       # CNOT from qubit 0 to 1\n",
    "multi_qc.cz(1, 2)       # Controlled-Z from qubit 1 to 2\n",
    "multi_qc.barrier()\n",
    "\n",
    "multi_qc.ry(np.pi/4, 0) # Rotation around Y-axis\n",
    "multi_qc.rz(np.pi/2, 1) # Rotation around Z-axis\n",
    "multi_qc.barrier()\n",
    "\n",
    "# Measure all qubits\n",
    "multi_qc.measure([0, 1, 2], [0, 1, 2])\n",
    "\n",
    "print(\"Multi-Gate Circuit:\")\n",
    "print(multi_qc.draw())\n",
    "\n",
    "# Display the circuit diagram\n",
    "multi_qc.draw(output='mpl')"
   ]
  },
  {
   "cell_type": "code",
   "execution_count": null,
   "metadata": {},
   "outputs": [],
   "source": [
    "# Run the multi-gate circuit\n",
    "job = simulator.run(multi_qc, shots=1000)\n",
    "result = job.result()\n",
    "counts = result.get_counts(multi_qc)\n",
    "\n",
    "print(\"Multi-gate circuit results:\", counts)\n",
    "plot_histogram(counts, title=\"Multi-Gate Circuit Results\")"
   ]
  },
  {
   "cell_type": "markdown",
   "metadata": {},
   "source": [
    "## 4. Quantum Random Number Generator\n",
    "\n",
    "A practical example: generating true random numbers using quantum superposition."
   ]
  },
  {
   "cell_type": "code",
   "execution_count": null,
   "metadata": {},
   "outputs": [],
   "source": [
    "def quantum_random_number(n_bits=4):\n",
    "    \"\"\"Generate a random number using quantum superposition\"\"\"\n",
    "    \n",
    "    # Create circuit with n_bits qubits\n",
    "    qc = QuantumCircuit(n_bits, n_bits)\n",
    "    \n",
    "    # Apply Hadamard to all qubits for superposition\n",
    "    for i in range(n_bits):\n",
    "        qc.h(i)\n",
    "    \n",
    "    # Measure all qubits\n",
    "    qc.measure(range(n_bits), range(n_bits))\n",
    "    \n",
    "    return qc\n",
    "\n",
    "# Create and display the random number generator circuit\n",
    "rng_circuit = quantum_random_number(4)\n",
    "print(\"Quantum Random Number Generator (4 bits):\")\n",
    "print(rng_circuit.draw())\n",
    "\n",
    "rng_circuit.draw(output='mpl')"
   ]
  },
  {
   "cell_type": "code",
   "execution_count": null,
   "metadata": {},
   "outputs": [],
   "source": [
    "# Generate random numbers\n",
    "job = simulator.run(rng_circuit, shots=100)\n",
    "result = job.result()\n",
    "counts = result.get_counts(rng_circuit)\n",
    "\n",
    "print(\"Random number distribution (100 samples):\")\n",
    "for binary, count in sorted(counts.items()):\n",
    "    decimal = int(binary, 2)\n",
    "    print(f\"Binary: {binary} -> Decimal: {decimal:2d} (appeared {count} times)\")\n",
    "\n",
    "plot_histogram(counts, title=\"Quantum Random Number Distribution\")"
   ]
  },
  {
   "cell_type": "markdown",
   "metadata": {},
   "source": [
    "## Summary\n",
    "\n",
    "This notebook demonstrated:\n",
    "1. Basic single-qubit operations with Hadamard gates\n",
    "2. Quantum entanglement using Bell states\n",
    "3. Multi-qubit circuits with various quantum gates\n",
    "4. Practical application: quantum random number generation\n",
    "\n",
    "Each example shows both the circuit diagram and measurement results, illustrating the power of quantum computing and the visualization capabilities of Qiskit."
   ]
  }
 ],
 "metadata": {
  "kernelspec": {
   "display_name": "Python 3",
   "language": "python",
   "name": "python3"
  },
  "language_info": {
   "codemirror_mode": {
    "name": "ipython",
    "version": 3
   },
   "file_extension": ".py",
   "mimetype": "text/x-python",
   "name": "python",
   "nbconvert_exporter": "python",
   "pygments_lexer": "ipython3",
   "version": "3.8.5"
  }
 },
 "nbformat": 4,
 "nbformat_minor": 4
}